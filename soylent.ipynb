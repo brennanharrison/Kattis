{
 "cells": [
  {
   "cell_type": "code",
   "execution_count": 4,
   "metadata": {},
   "outputs": [
    {
     "name": "stdout",
     "output_type": "stream",
     "text": [
      "2\n",
      "1700\n",
      "1300\n",
      "5\n",
      "4\n"
     ]
    }
   ],
   "source": [
    "t = int(input())\n",
    "\n",
    "l = []\n",
    "x = 0\n",
    "\n",
    "while x < t:\n",
    "    n = int(input())\n",
    "    if n%400 != 0:\n",
    "        i = (n//400) + 1\n",
    "    else:\n",
    "        i = n//400\n",
    "    l.append(i)\n",
    "    x+=1\n",
    "    \n",
    "for i in l:\n",
    "    print(int(i))\n",
    "        \n",
    "        \n",
    "    "
   ]
  }
 ],
 "metadata": {
  "kernelspec": {
   "display_name": "Python 3",
   "language": "python",
   "name": "python3"
  }
 },
 "nbformat": 4,
 "nbformat_minor": 2
}
